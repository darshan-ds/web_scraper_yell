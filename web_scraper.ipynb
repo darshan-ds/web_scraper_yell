{
 "cells": [
  {
   "cell_type": "code",
   "execution_count": 1,
   "metadata": {},
   "outputs": [],
   "source": [
    "import requests\n",
    "from bs4 import BeautifulSoup\n",
    "import pandas as pd\n",
    "import time"
   ]
  },
  {
   "cell_type": "code",
   "execution_count": 45,
   "metadata": {},
   "outputs": [],
   "source": [
    "for page in range(1,5):\n",
    "    print(f'page {page}\\n')\n",
    "    url = f'https://www.yell.com/ucs/UcsSearchAction.do?find=Y&keywords=restaurants&location=boston&pageNum={page}'\n",
    "    headers = {'User-Agent':'Mozilla/5.0 (Windows NT 10.0; Win64; x64) AppleWebKit/537.36 (KHTML, like Gecko) Chrome/85.0.4183.102 Safari/537.36'}\n",
    "    r = requests.get(url=url, headers=headers)\n",
    "    soup = BeautifulSoup(r.content, 'html.parser')\n",
    "    articles = soup.find_all('div', class_='businessCapsule--mainRow')\n",
    "\n",
    "    for item in articles:\n",
    "        name = item.find('span', class_='businessCapsule--name').text\n",
    "        type_of_restaurant = item.find('span', class_='businessCapsule--classification').text\n",
    "        more_info_link = item.find('a', class_='businessCapsule--moreInfoBtn')['href']\n",
    "        more_info_link = f'https://www.yell.com{more_info_link}'\n",
    "        r2 = requests.get(url=more_info_link, headers=headers)\n",
    "        print('more info request sent')\n",
    "        soup2 = BeautifulSoup(r2.content, 'html.parser')\n",
    "        print('sleeping 5 sec')\n",
    "        time.sleep(5)\n",
    "        try:\n",
    "            address = soup2.find('span', {'itemprop' : 'address'}).text.strip().replace('\\n','')\n",
    "        except:\n",
    "            address = -1\n",
    "        try:\n",
    "            website = soup2.find('a', class_='businessCard--callToAction')['href']\n",
    "        except:\n",
    "            website = -1\n",
    "        \n",
    "        restaurants = {\n",
    "            'name' : name,\n",
    "            'type of restaurant' : type_of_restaurant,\n",
    "            'address' : address,\n",
    "            'website' : website\n",
    "        }\n",
    "        print('sleeping 5 sec')\n",
    "        time.sleep(5)\n",
    "    print('sleeping 10 sec \\n')\n",
    "    time.sleep(10)\n",
    "df = pd.DataFrame(restaurants)\n",
    "df.to_csv('restaurant_list.csv', index=False)\n",
    "    "
   ]
  },
  {
   "cell_type": "code",
   "execution_count": null,
   "metadata": {},
   "outputs": [],
   "source": []
  }
 ],
 "metadata": {
  "kernelspec": {
   "display_name": "Python 3",
   "language": "python",
   "name": "python3"
  },
  "language_info": {
   "codemirror_mode": {
    "name": "ipython",
    "version": 3
   },
   "file_extension": ".py",
   "mimetype": "text/x-python",
   "name": "python",
   "nbconvert_exporter": "python",
   "pygments_lexer": "ipython3",
   "version": "3.8.3"
  }
 },
 "nbformat": 4,
 "nbformat_minor": 4
}
